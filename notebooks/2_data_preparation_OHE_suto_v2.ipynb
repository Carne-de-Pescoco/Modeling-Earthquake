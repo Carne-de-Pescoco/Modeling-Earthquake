{
 "cells": [
  {
   "cell_type": "code",
   "execution_count": 26,
   "metadata": {
    "ExecuteTime": {
     "end_time": "2020-12-05T15:00:42.561564Z",
     "start_time": "2020-12-05T15:00:42.544046Z"
    }
   },
   "outputs": [],
   "source": [
    "import os\n",
    "\n",
    "import pandas as pd\n",
    "import numpy as np\n",
    "\n",
    "from category_encoders import TargetEncoder\n",
    "from sklearn.preprocessing import StandardScaler, MinMaxScaler, RobustScaler\n",
    "from feature_engine import categorical_encoders as ce\n",
    "\n",
    "from sklearn.ensemble import RandomForestClassifier\n",
    "from sklearn.feature_selection import RFE\n",
    "\n",
    "import matplotlib.pyplot as plt\n",
    "import seaborn as sns\n",
    "\n",
    "os.chdir(\"../src/\")\n",
    "from utils.data_describe import DataDescribe as dd\n",
    "\n",
    "basepath = \"../data/external/\"\n",
    "path_x_train = \"../data/external/train_values.csv\"\n",
    "path_y_train = \"../data/external/train_labels.csv\"\n",
    "path_x_test = \"../data/external/test_values.csv\"\n",
    "\n",
    "path_x_selected = \"../data/interim/\"\n",
    "path_processed = \"../data/processed/\"\n",
    "\n",
    "# Configurações para mostrar todas as colunas no iPython\n",
    "# pd.set_option('display.max_rows', 50)\n",
    "pd.set_option('display.max_columns', None)\n",
    "# pd.set_option('display.width', None)\n",
    "# pd.set_option('display.max_colwidth', None)"
   ]
  },
  {
   "cell_type": "code",
   "execution_count": 27,
   "metadata": {
    "ExecuteTime": {
     "end_time": "2020-12-05T15:00:42.939244Z",
     "start_time": "2020-12-05T15:00:42.917224Z"
    }
   },
   "outputs": [
    {
     "output_type": "stream",
     "name": "stdout",
     "text": [
      "------------------------------\nArquivos em data/external:\n\n.gitkeep\nsubmission_format.csv\ntest_values.csv\ntrain_labels.csv\ntrain_values.csv\n------------------------------\nArquivos em data/interim:\n\n.gitkeep\nlst_X_train_booleanas.csv\nlst_X_train_categoricas.csv\nlst_X_train_categoricas_nominais.csv\nlst_X_train_categoricas_ordinais.csv\nlst_X_train_continuas.csv\nlst_selected_features.csv\n------------------------------\n"
     ]
    }
   ],
   "source": [
    "# List all files in a directory using scandir()\n",
    "print(\"-\"*30)\n",
    "print(\"Arquivos em data/external:\\n\")\n",
    "with os.scandir(basepath) as entries:\n",
    "    for entry in entries:\n",
    "        if entry.is_file():\n",
    "            print(entry.name)\n",
    "\n",
    "print(\"-\"*30)\n",
    "print(\"Arquivos em data/interim:\\n\")\n",
    "\n",
    "with os.scandir(path_x_selected) as entries:\n",
    "    for entry in entries:\n",
    "        if entry.is_file():\n",
    "            print(entry.name)\n",
    "print(\"-\"*30)"
   ]
  },
  {
   "cell_type": "markdown",
   "metadata": {},
   "source": [
    "# Início da preparação\n",
    "\n",
    "A preparação de dados inicial será:\n",
    "\n",
    "<p class=\"aligncenter\">\n",
    "    <img src=\"./images/2_data_preparation_schema.svg\" alt=\"Soma do quadrado dos resíduos\" width=\"800\">\n",
    "</p>\n",
    "<p style=\"text-align:center\"> Figura 1 - Esquema mostrando as tranformações executadas em cada subconjunto de dados.</p>\n"
   ]
  },
  {
   "cell_type": "code",
   "execution_count": 28,
   "metadata": {
    "ExecuteTime": {
     "end_time": "2020-12-05T15:00:44.501248Z",
     "start_time": "2020-12-05T15:00:43.741588Z"
    }
   },
   "outputs": [],
   "source": [
    "# Carregando dados de treino\n",
    "X_train = pd.read_csv(path_x_train, index_col=0)\n",
    "y_train = pd.read_csv(path_y_train, index_col=0)\n",
    "X_test = pd.read_csv(path_x_test, index_col=0)"
   ]
  },
  {
   "cell_type": "markdown",
   "metadata": {},
   "source": [
    "## Aplicando o Rare Label Encoding"
   ]
  },
  {
   "cell_type": "code",
   "execution_count": 29,
   "metadata": {},
   "outputs": [],
   "source": [
    "lst_features_rare_label_encoding = pd.read_csv(path_x_selected+\"lst_X_train_categoricas_ordinais.csv\", index_col=0)\n",
    "lst_features_rare_label_encoding = pd.concat([lst_features_rare_label_encoding, pd.read_csv(path_x_selected+\"lst_X_train_categoricas_nominais.csv\", index_col=0)], axis=0)\n",
    "lst_features_rare_label_encoding = list(lst_features_rare_label_encoding[\"0\"].unique())"
   ]
  },
  {
   "cell_type": "code",
   "execution_count": 30,
   "metadata": {
    "ExecuteTime": {
     "end_time": "2020-12-05T15:00:45.600388Z",
     "start_time": "2020-12-05T15:00:45.005813Z"
    }
   },
   "outputs": [
    {
     "output_type": "execute_result",
     "data": {
      "text/plain": [
       "            count_floors_pre_eq count_families land_surface_condition  \\\n",
       "building_id                                                             \n",
       "802906                        2              1                      t   \n",
       "28830                         2              1                      o   \n",
       "94947                         2              1                      t   \n",
       "590882                        2              1                      t   \n",
       "201944                        3              1                      t   \n",
       "\n",
       "            roof_type legal_ownership_status other_floor_type position  \\\n",
       "building_id                                                              \n",
       "802906              n                      v                q        t   \n",
       "28830               n                      v                q        s   \n",
       "94947               n                      v                x        t   \n",
       "590882              n                      v                x        s   \n",
       "201944              n                      v                x        s   \n",
       "\n",
       "            foundation_type ground_floor_type plan_configuration  \n",
       "building_id                                                       \n",
       "802906                    r                 f                  d  \n",
       "28830                     r                 x                  d  \n",
       "94947                     r                 f                  d  \n",
       "590882                    r                 f                  d  \n",
       "201944                    r                 f                  d  "
      ],
      "text/html": "<div>\n<style scoped>\n    .dataframe tbody tr th:only-of-type {\n        vertical-align: middle;\n    }\n\n    .dataframe tbody tr th {\n        vertical-align: top;\n    }\n\n    .dataframe thead th {\n        text-align: right;\n    }\n</style>\n<table border=\"1\" class=\"dataframe\">\n  <thead>\n    <tr style=\"text-align: right;\">\n      <th></th>\n      <th>count_floors_pre_eq</th>\n      <th>count_families</th>\n      <th>land_surface_condition</th>\n      <th>roof_type</th>\n      <th>legal_ownership_status</th>\n      <th>other_floor_type</th>\n      <th>position</th>\n      <th>foundation_type</th>\n      <th>ground_floor_type</th>\n      <th>plan_configuration</th>\n    </tr>\n    <tr>\n      <th>building_id</th>\n      <th></th>\n      <th></th>\n      <th></th>\n      <th></th>\n      <th></th>\n      <th></th>\n      <th></th>\n      <th></th>\n      <th></th>\n      <th></th>\n    </tr>\n  </thead>\n  <tbody>\n    <tr>\n      <th>802906</th>\n      <td>2</td>\n      <td>1</td>\n      <td>t</td>\n      <td>n</td>\n      <td>v</td>\n      <td>q</td>\n      <td>t</td>\n      <td>r</td>\n      <td>f</td>\n      <td>d</td>\n    </tr>\n    <tr>\n      <th>28830</th>\n      <td>2</td>\n      <td>1</td>\n      <td>o</td>\n      <td>n</td>\n      <td>v</td>\n      <td>q</td>\n      <td>s</td>\n      <td>r</td>\n      <td>x</td>\n      <td>d</td>\n    </tr>\n    <tr>\n      <th>94947</th>\n      <td>2</td>\n      <td>1</td>\n      <td>t</td>\n      <td>n</td>\n      <td>v</td>\n      <td>x</td>\n      <td>t</td>\n      <td>r</td>\n      <td>f</td>\n      <td>d</td>\n    </tr>\n    <tr>\n      <th>590882</th>\n      <td>2</td>\n      <td>1</td>\n      <td>t</td>\n      <td>n</td>\n      <td>v</td>\n      <td>x</td>\n      <td>s</td>\n      <td>r</td>\n      <td>f</td>\n      <td>d</td>\n    </tr>\n    <tr>\n      <th>201944</th>\n      <td>3</td>\n      <td>1</td>\n      <td>t</td>\n      <td>n</td>\n      <td>v</td>\n      <td>x</td>\n      <td>s</td>\n      <td>r</td>\n      <td>f</td>\n      <td>d</td>\n    </tr>\n  </tbody>\n</table>\n</div>"
     },
     "metadata": {},
     "execution_count": 30
    }
   ],
   "source": [
    "# A conversão dos valores em strings deve-se ao fato de que a função (ce.RareLabelCategoricalEncoder) somente aceita strings.\n",
    "for coluna in X_train[lst_features_rare_label_encoding].columns:\n",
    "    X_train.loc[:, coluna] = X_train.loc[:, coluna].astype(str)\n",
    "\n",
    "rare_label_encoder = ce.RareLabelCategoricalEncoder(tol=0.025, n_categories=5,\n",
    "                                         variables=lst_features_rare_label_encoding,\n",
    "                                         replace_with='Rare')\n",
    "\n",
    "X_train = rare_label_encoder.fit_transform(X_train)\n",
    "\n",
    "X_train[lst_features_rare_label_encoding].head()"
   ]
  },
  {
   "source": [
    "## Transformando a classe 'Rare' em número inteiro"
   ],
   "cell_type": "markdown",
   "metadata": {}
  },
  {
   "cell_type": "code",
   "execution_count": 31,
   "metadata": {},
   "outputs": [],
   "source": [
    "lst_X_train_categoricas_ordinais = pd.read_csv(path_x_selected+\"lst_X_train_categoricas_ordinais.csv\", index_col=0)\n",
    "lst_X_train_categoricas_ordinais = list(lst_X_train_categoricas_ordinais[\"0\"].unique())"
   ]
  },
  {
   "cell_type": "code",
   "execution_count": 32,
   "metadata": {},
   "outputs": [],
   "source": [
    "# Essa célula, apenans transforma todas as classes dos atributos categoricos ordinais em números inteiros e troca o label 'Rare' para o próximo número inteiro da lista.\n",
    "\n",
    "def transform_rare_int(df, lst_colunas):\n",
    "    dct_features = {}\n",
    "\n",
    "    for feature in lst_colunas:\n",
    "        lst_features = sorted(df[feature].unique())\n",
    "        dct_features[feature] = {}\n",
    "        for feature_in in lst_features:\n",
    "            if 'Rare' in feature_in:\n",
    "                dct_features[feature][feature_in] = int(max(dct_features[feature]))+1\n",
    "            else:\n",
    "                dct_features[feature][feature_in] = int(feature_in)\n",
    "        df[feature].replace(dct_features[feature], inplace=True)\n",
    "\n",
    "    return df"
   ]
  },
  {
   "cell_type": "code",
   "execution_count": 34,
   "metadata": {},
   "outputs": [
    {
     "output_type": "stream",
     "name": "stdout",
     "text": [
      "Já tinha executado a transformação.\n"
     ]
    },
    {
     "output_type": "execute_result",
     "data": {
      "text/plain": [
       "             count_floors_pre_eq  count_families land_surface_condition  \\\n",
       "building_id                                                               \n",
       "802906                         2               1                      t   \n",
       "28830                          2               1                      o   \n",
       "94947                          2               1                      t   \n",
       "590882                         2               1                      t   \n",
       "201944                         3               1                      t   \n",
       "\n",
       "            roof_type legal_ownership_status other_floor_type position  \\\n",
       "building_id                                                              \n",
       "802906              n                      v                q        t   \n",
       "28830               n                      v                q        s   \n",
       "94947               n                      v                x        t   \n",
       "590882              n                      v                x        s   \n",
       "201944              n                      v                x        s   \n",
       "\n",
       "            foundation_type ground_floor_type plan_configuration  \n",
       "building_id                                                       \n",
       "802906                    r                 f                  d  \n",
       "28830                     r                 x                  d  \n",
       "94947                     r                 f                  d  \n",
       "590882                    r                 f                  d  \n",
       "201944                    r                 f                  d  "
      ],
      "text/html": "<div>\n<style scoped>\n    .dataframe tbody tr th:only-of-type {\n        vertical-align: middle;\n    }\n\n    .dataframe tbody tr th {\n        vertical-align: top;\n    }\n\n    .dataframe thead th {\n        text-align: right;\n    }\n</style>\n<table border=\"1\" class=\"dataframe\">\n  <thead>\n    <tr style=\"text-align: right;\">\n      <th></th>\n      <th>count_floors_pre_eq</th>\n      <th>count_families</th>\n      <th>land_surface_condition</th>\n      <th>roof_type</th>\n      <th>legal_ownership_status</th>\n      <th>other_floor_type</th>\n      <th>position</th>\n      <th>foundation_type</th>\n      <th>ground_floor_type</th>\n      <th>plan_configuration</th>\n    </tr>\n    <tr>\n      <th>building_id</th>\n      <th></th>\n      <th></th>\n      <th></th>\n      <th></th>\n      <th></th>\n      <th></th>\n      <th></th>\n      <th></th>\n      <th></th>\n      <th></th>\n    </tr>\n  </thead>\n  <tbody>\n    <tr>\n      <th>802906</th>\n      <td>2</td>\n      <td>1</td>\n      <td>t</td>\n      <td>n</td>\n      <td>v</td>\n      <td>q</td>\n      <td>t</td>\n      <td>r</td>\n      <td>f</td>\n      <td>d</td>\n    </tr>\n    <tr>\n      <th>28830</th>\n      <td>2</td>\n      <td>1</td>\n      <td>o</td>\n      <td>n</td>\n      <td>v</td>\n      <td>q</td>\n      <td>s</td>\n      <td>r</td>\n      <td>x</td>\n      <td>d</td>\n    </tr>\n    <tr>\n      <th>94947</th>\n      <td>2</td>\n      <td>1</td>\n      <td>t</td>\n      <td>n</td>\n      <td>v</td>\n      <td>x</td>\n      <td>t</td>\n      <td>r</td>\n      <td>f</td>\n      <td>d</td>\n    </tr>\n    <tr>\n      <th>590882</th>\n      <td>2</td>\n      <td>1</td>\n      <td>t</td>\n      <td>n</td>\n      <td>v</td>\n      <td>x</td>\n      <td>s</td>\n      <td>r</td>\n      <td>f</td>\n      <td>d</td>\n    </tr>\n    <tr>\n      <th>201944</th>\n      <td>3</td>\n      <td>1</td>\n      <td>t</td>\n      <td>n</td>\n      <td>v</td>\n      <td>x</td>\n      <td>s</td>\n      <td>r</td>\n      <td>f</td>\n      <td>d</td>\n    </tr>\n  </tbody>\n</table>\n</div>"
     },
     "metadata": {},
     "execution_count": 34
    }
   ],
   "source": [
    "try:\n",
    "    X_train = transform_rare_int(X_train, lst_X_train_categoricas_ordinais)\n",
    "except:\n",
    "    print(\"Já tinha executado a transformação.\")\n",
    "X_train[lst_features_rare_label_encoding].head()"
   ]
  },
  {
   "cell_type": "markdown",
   "metadata": {},
   "source": [
    "## Aplicando o one hot encoding nos atributos categóricos nominais"
   ]
  },
  {
   "cell_type": "code",
   "execution_count": 36,
   "metadata": {},
   "outputs": [],
   "source": [
    "lst_X_train_categoricas_nominais = pd.read_csv(path_x_selected+\"lst_X_train_categoricas_nominais.csv\", index_col=0)\n",
    "lst_X_train_categoricas_nominais = list(lst_X_train_categoricas_nominais[\"0\"].unique())"
   ]
  },
  {
   "cell_type": "code",
   "execution_count": 39,
   "metadata": {
    "ExecuteTime": {
     "end_time": "2020-12-05T15:00:47.176667Z",
     "start_time": "2020-12-05T15:00:46.319296Z"
    }
   },
   "outputs": [
    {
     "output_type": "execute_result",
     "data": {
      "text/plain": [
       "             land_surface_condition_t  land_surface_condition_o  roof_type_n  \\\n",
       "building_id                                                                    \n",
       "802906                              1                         0            1   \n",
       "28830                               0                         1            1   \n",
       "94947                               1                         0            1   \n",
       "590882                              1                         0            1   \n",
       "201944                              1                         0            1   \n",
       "\n",
       "             roof_type_q  legal_ownership_status_v  legal_ownership_status_a  \\\n",
       "building_id                                                                    \n",
       "802906                 0                         1                         0   \n",
       "28830                  0                         1                         0   \n",
       "94947                  0                         1                         0   \n",
       "590882                 0                         1                         0   \n",
       "201944                 0                         1                         0   \n",
       "\n",
       "             legal_ownership_status_r  other_floor_type_q  other_floor_type_x  \\\n",
       "building_id                                                                     \n",
       "802906                              0                   1                   0   \n",
       "28830                               0                   1                   0   \n",
       "94947                               0                   0                   1   \n",
       "590882                              0                   0                   1   \n",
       "201944                              0                   0                   1   \n",
       "\n",
       "             other_floor_type_j  position_t  position_s  position_j  \\\n",
       "building_id                                                           \n",
       "802906                        0           1           0           0   \n",
       "28830                         0           0           1           0   \n",
       "94947                         0           1           0           0   \n",
       "590882                        0           0           1           0   \n",
       "201944                        0           0           1           0   \n",
       "\n",
       "             foundation_type_r  foundation_type_w  foundation_type_i  \\\n",
       "building_id                                                            \n",
       "802906                       1                  0                  0   \n",
       "28830                        1                  0                  0   \n",
       "94947                        1                  0                  0   \n",
       "590882                       1                  0                  0   \n",
       "201944                       1                  0                  0   \n",
       "\n",
       "             foundation_type_u  ground_floor_type_f  ground_floor_type_x  \\\n",
       "building_id                                                                \n",
       "802906                       0                    1                    0   \n",
       "28830                        0                    0                    1   \n",
       "94947                        0                    1                    0   \n",
       "590882                       0                    1                    0   \n",
       "201944                       0                    1                    0   \n",
       "\n",
       "             ground_floor_type_v  ground_floor_type_z  plan_configuration_d  \n",
       "building_id                                                                  \n",
       "802906                         0                    0                     1  \n",
       "28830                          0                    0                     1  \n",
       "94947                          0                    0                     1  \n",
       "590882                         0                    0                     1  \n",
       "201944                         0                    0                     1  "
      ],
      "text/html": "<div>\n<style scoped>\n    .dataframe tbody tr th:only-of-type {\n        vertical-align: middle;\n    }\n\n    .dataframe tbody tr th {\n        vertical-align: top;\n    }\n\n    .dataframe thead th {\n        text-align: right;\n    }\n</style>\n<table border=\"1\" class=\"dataframe\">\n  <thead>\n    <tr style=\"text-align: right;\">\n      <th></th>\n      <th>land_surface_condition_t</th>\n      <th>land_surface_condition_o</th>\n      <th>roof_type_n</th>\n      <th>roof_type_q</th>\n      <th>legal_ownership_status_v</th>\n      <th>legal_ownership_status_a</th>\n      <th>legal_ownership_status_r</th>\n      <th>other_floor_type_q</th>\n      <th>other_floor_type_x</th>\n      <th>other_floor_type_j</th>\n      <th>position_t</th>\n      <th>position_s</th>\n      <th>position_j</th>\n      <th>foundation_type_r</th>\n      <th>foundation_type_w</th>\n      <th>foundation_type_i</th>\n      <th>foundation_type_u</th>\n      <th>ground_floor_type_f</th>\n      <th>ground_floor_type_x</th>\n      <th>ground_floor_type_v</th>\n      <th>ground_floor_type_z</th>\n      <th>plan_configuration_d</th>\n    </tr>\n    <tr>\n      <th>building_id</th>\n      <th></th>\n      <th></th>\n      <th></th>\n      <th></th>\n      <th></th>\n      <th></th>\n      <th></th>\n      <th></th>\n      <th></th>\n      <th></th>\n      <th></th>\n      <th></th>\n      <th></th>\n      <th></th>\n      <th></th>\n      <th></th>\n      <th></th>\n      <th></th>\n      <th></th>\n      <th></th>\n      <th></th>\n      <th></th>\n    </tr>\n  </thead>\n  <tbody>\n    <tr>\n      <th>802906</th>\n      <td>1</td>\n      <td>0</td>\n      <td>1</td>\n      <td>0</td>\n      <td>1</td>\n      <td>0</td>\n      <td>0</td>\n      <td>1</td>\n      <td>0</td>\n      <td>0</td>\n      <td>1</td>\n      <td>0</td>\n      <td>0</td>\n      <td>1</td>\n      <td>0</td>\n      <td>0</td>\n      <td>0</td>\n      <td>1</td>\n      <td>0</td>\n      <td>0</td>\n      <td>0</td>\n      <td>1</td>\n    </tr>\n    <tr>\n      <th>28830</th>\n      <td>0</td>\n      <td>1</td>\n      <td>1</td>\n      <td>0</td>\n      <td>1</td>\n      <td>0</td>\n      <td>0</td>\n      <td>1</td>\n      <td>0</td>\n      <td>0</td>\n      <td>0</td>\n      <td>1</td>\n      <td>0</td>\n      <td>1</td>\n      <td>0</td>\n      <td>0</td>\n      <td>0</td>\n      <td>0</td>\n      <td>1</td>\n      <td>0</td>\n      <td>0</td>\n      <td>1</td>\n    </tr>\n    <tr>\n      <th>94947</th>\n      <td>1</td>\n      <td>0</td>\n      <td>1</td>\n      <td>0</td>\n      <td>1</td>\n      <td>0</td>\n      <td>0</td>\n      <td>0</td>\n      <td>1</td>\n      <td>0</td>\n      <td>1</td>\n      <td>0</td>\n      <td>0</td>\n      <td>1</td>\n      <td>0</td>\n      <td>0</td>\n      <td>0</td>\n      <td>1</td>\n      <td>0</td>\n      <td>0</td>\n      <td>0</td>\n      <td>1</td>\n    </tr>\n    <tr>\n      <th>590882</th>\n      <td>1</td>\n      <td>0</td>\n      <td>1</td>\n      <td>0</td>\n      <td>1</td>\n      <td>0</td>\n      <td>0</td>\n      <td>0</td>\n      <td>1</td>\n      <td>0</td>\n      <td>0</td>\n      <td>1</td>\n      <td>0</td>\n      <td>1</td>\n      <td>0</td>\n      <td>0</td>\n      <td>0</td>\n      <td>1</td>\n      <td>0</td>\n      <td>0</td>\n      <td>0</td>\n      <td>1</td>\n    </tr>\n    <tr>\n      <th>201944</th>\n      <td>1</td>\n      <td>0</td>\n      <td>1</td>\n      <td>0</td>\n      <td>1</td>\n      <td>0</td>\n      <td>0</td>\n      <td>0</td>\n      <td>1</td>\n      <td>0</td>\n      <td>0</td>\n      <td>1</td>\n      <td>0</td>\n      <td>1</td>\n      <td>0</td>\n      <td>0</td>\n      <td>0</td>\n      <td>1</td>\n      <td>0</td>\n      <td>0</td>\n      <td>0</td>\n      <td>1</td>\n    </tr>\n  </tbody>\n</table>\n</div>"
     },
     "metadata": {},
     "execution_count": 39
    }
   ],
   "source": [
    "ohe_hot_encoder = ce.OneHotCategoricalEncoder(top_categories=None,\n",
    "                                              variables=lst_X_train_categoricas_nominais,\n",
    "                                              drop_last=True)\n",
    "\n",
    "ohe_hot_encoder.fit(X_train)\n",
    "\n",
    "X_train = ohe_hot_encoder.transform(X_train)\n",
    "\n",
    "# Criando lista com colunas que passaram pelo OHE:\n",
    "lst_ohe_encoded_columns = []\n",
    "for item in lst_X_train_categoricas_nominais:\n",
    "    lst_ohe_encoded_columns.extend([coluna for coluna in X_train.columns if item in coluna])\n",
    "\n",
    "X_train[lst_ohe_encoded_columns].head()"
   ]
  },
  {
   "cell_type": "markdown",
   "metadata": {},
   "source": [
    "# Dataframe para alimentar o modelo"
   ]
  },
  {
   "cell_type": "code",
   "execution_count": 41,
   "metadata": {
    "ExecuteTime": {
     "end_time": "2020-12-05T15:01:43.331437Z",
     "start_time": "2020-12-05T15:01:42.558726Z"
    }
   },
   "outputs": [
    {
     "output_type": "execute_result",
     "data": {
      "text/plain": [
       "             geo_level_1_id  geo_level_2_id  geo_level_3_id  \\\n",
       "building_id                                                   \n",
       "802906                    6             487           12198   \n",
       "28830                     8             900            2812   \n",
       "94947                    21             363            8973   \n",
       "590882                   22             418           10694   \n",
       "201944                   11             131            1488   \n",
       "\n",
       "             count_floors_pre_eq  age  area_percentage  height_percentage  \\\n",
       "building_id                                                                 \n",
       "802906                         2   30                6                  5   \n",
       "28830                          2   10                8                  7   \n",
       "94947                          2   10                5                  5   \n",
       "590882                         2   10                6                  5   \n",
       "201944                         3   30                8                  9   \n",
       "\n",
       "             has_superstructure_adobe_mud  \\\n",
       "building_id                                 \n",
       "802906                                  1   \n",
       "28830                                   0   \n",
       "94947                                   0   \n",
       "590882                                  0   \n",
       "201944                                  1   \n",
       "\n",
       "             has_superstructure_mud_mortar_stone  \\\n",
       "building_id                                        \n",
       "802906                                         1   \n",
       "28830                                          1   \n",
       "94947                                          1   \n",
       "590882                                         1   \n",
       "201944                                         0   \n",
       "\n",
       "             has_superstructure_stone_flag  \\\n",
       "building_id                                  \n",
       "802906                                   0   \n",
       "28830                                    0   \n",
       "94947                                    0   \n",
       "590882                                   0   \n",
       "201944                                   0   \n",
       "\n",
       "             has_superstructure_cement_mortar_stone  \\\n",
       "building_id                                           \n",
       "802906                                            0   \n",
       "28830                                             0   \n",
       "94947                                             0   \n",
       "590882                                            0   \n",
       "201944                                            0   \n",
       "\n",
       "             has_superstructure_mud_mortar_brick  \\\n",
       "building_id                                        \n",
       "802906                                         0   \n",
       "28830                                          0   \n",
       "94947                                          0   \n",
       "590882                                         0   \n",
       "201944                                         0   \n",
       "\n",
       "             has_superstructure_cement_mortar_brick  \\\n",
       "building_id                                           \n",
       "802906                                            0   \n",
       "28830                                             0   \n",
       "94947                                             0   \n",
       "590882                                            0   \n",
       "201944                                            0   \n",
       "\n",
       "             has_superstructure_timber  has_superstructure_bamboo  \\\n",
       "building_id                                                         \n",
       "802906                               0                          0   \n",
       "28830                                0                          0   \n",
       "94947                                0                          0   \n",
       "590882                               1                          1   \n",
       "201944                               0                          0   \n",
       "\n",
       "             has_superstructure_rc_non_engineered  \\\n",
       "building_id                                         \n",
       "802906                                          0   \n",
       "28830                                           0   \n",
       "94947                                           0   \n",
       "590882                                          0   \n",
       "201944                                          0   \n",
       "\n",
       "             has_superstructure_rc_engineered  has_superstructure_other  \\\n",
       "building_id                                                               \n",
       "802906                                      0                         0   \n",
       "28830                                       0                         0   \n",
       "94947                                       0                         0   \n",
       "590882                                      0                         0   \n",
       "201944                                      0                         0   \n",
       "\n",
       "             count_families  has_secondary_use  has_secondary_use_agriculture  \\\n",
       "building_id                                                                     \n",
       "802906                    1                  0                              0   \n",
       "28830                     1                  0                              0   \n",
       "94947                     1                  0                              0   \n",
       "590882                    1                  0                              0   \n",
       "201944                    1                  0                              0   \n",
       "\n",
       "             has_secondary_use_hotel  has_secondary_use_rental  \\\n",
       "building_id                                                      \n",
       "802906                             0                         0   \n",
       "28830                              0                         0   \n",
       "94947                              0                         0   \n",
       "590882                             0                         0   \n",
       "201944                             0                         0   \n",
       "\n",
       "             has_secondary_use_institution  has_secondary_use_school  \\\n",
       "building_id                                                            \n",
       "802906                                   0                         0   \n",
       "28830                                    0                         0   \n",
       "94947                                    0                         0   \n",
       "590882                                   0                         0   \n",
       "201944                                   0                         0   \n",
       "\n",
       "             has_secondary_use_industry  has_secondary_use_health_post  \\\n",
       "building_id                                                              \n",
       "802906                                0                              0   \n",
       "28830                                 0                              0   \n",
       "94947                                 0                              0   \n",
       "590882                                0                              0   \n",
       "201944                                0                              0   \n",
       "\n",
       "             has_secondary_use_gov_office  has_secondary_use_use_police  \\\n",
       "building_id                                                               \n",
       "802906                                  0                             0   \n",
       "28830                                   0                             0   \n",
       "94947                                   0                             0   \n",
       "590882                                  0                             0   \n",
       "201944                                  0                             0   \n",
       "\n",
       "             has_secondary_use_other  land_surface_condition_t  \\\n",
       "building_id                                                      \n",
       "802906                             0                         1   \n",
       "28830                              0                         0   \n",
       "94947                              0                         1   \n",
       "590882                             0                         1   \n",
       "201944                             0                         1   \n",
       "\n",
       "             land_surface_condition_o  roof_type_n  roof_type_q  \\\n",
       "building_id                                                       \n",
       "802906                              0            1            0   \n",
       "28830                               1            1            0   \n",
       "94947                               0            1            0   \n",
       "590882                              0            1            0   \n",
       "201944                              0            1            0   \n",
       "\n",
       "             legal_ownership_status_v  legal_ownership_status_a  \\\n",
       "building_id                                                       \n",
       "802906                              1                         0   \n",
       "28830                               1                         0   \n",
       "94947                               1                         0   \n",
       "590882                              1                         0   \n",
       "201944                              1                         0   \n",
       "\n",
       "             legal_ownership_status_r  other_floor_type_q  other_floor_type_x  \\\n",
       "building_id                                                                     \n",
       "802906                              0                   1                   0   \n",
       "28830                               0                   1                   0   \n",
       "94947                               0                   0                   1   \n",
       "590882                              0                   0                   1   \n",
       "201944                              0                   0                   1   \n",
       "\n",
       "             other_floor_type_j  position_t  position_s  position_j  \\\n",
       "building_id                                                           \n",
       "802906                        0           1           0           0   \n",
       "28830                         0           0           1           0   \n",
       "94947                         0           1           0           0   \n",
       "590882                        0           0           1           0   \n",
       "201944                        0           0           1           0   \n",
       "\n",
       "             foundation_type_r  foundation_type_w  foundation_type_i  \\\n",
       "building_id                                                            \n",
       "802906                       1                  0                  0   \n",
       "28830                        1                  0                  0   \n",
       "94947                        1                  0                  0   \n",
       "590882                       1                  0                  0   \n",
       "201944                       1                  0                  0   \n",
       "\n",
       "             foundation_type_u  ground_floor_type_f  ground_floor_type_x  \\\n",
       "building_id                                                                \n",
       "802906                       0                    1                    0   \n",
       "28830                        0                    0                    1   \n",
       "94947                        0                    1                    0   \n",
       "590882                       0                    1                    0   \n",
       "201944                       0                    1                    0   \n",
       "\n",
       "             ground_floor_type_v  ground_floor_type_z  plan_configuration_d  \\\n",
       "building_id                                                                   \n",
       "802906                         0                    0                     1   \n",
       "28830                          0                    0                     1   \n",
       "94947                          0                    0                     1   \n",
       "590882                         0                    0                     1   \n",
       "201944                         0                    0                     1   \n",
       "\n",
       "             damage_grade  \n",
       "building_id                \n",
       "802906                  3  \n",
       "28830                   2  \n",
       "94947                   3  \n",
       "590882                  2  \n",
       "201944                  3  "
      ],
      "text/html": "<div>\n<style scoped>\n    .dataframe tbody tr th:only-of-type {\n        vertical-align: middle;\n    }\n\n    .dataframe tbody tr th {\n        vertical-align: top;\n    }\n\n    .dataframe thead th {\n        text-align: right;\n    }\n</style>\n<table border=\"1\" class=\"dataframe\">\n  <thead>\n    <tr style=\"text-align: right;\">\n      <th></th>\n      <th>geo_level_1_id</th>\n      <th>geo_level_2_id</th>\n      <th>geo_level_3_id</th>\n      <th>count_floors_pre_eq</th>\n      <th>age</th>\n      <th>area_percentage</th>\n      <th>height_percentage</th>\n      <th>has_superstructure_adobe_mud</th>\n      <th>has_superstructure_mud_mortar_stone</th>\n      <th>has_superstructure_stone_flag</th>\n      <th>has_superstructure_cement_mortar_stone</th>\n      <th>has_superstructure_mud_mortar_brick</th>\n      <th>has_superstructure_cement_mortar_brick</th>\n      <th>has_superstructure_timber</th>\n      <th>has_superstructure_bamboo</th>\n      <th>has_superstructure_rc_non_engineered</th>\n      <th>has_superstructure_rc_engineered</th>\n      <th>has_superstructure_other</th>\n      <th>count_families</th>\n      <th>has_secondary_use</th>\n      <th>has_secondary_use_agriculture</th>\n      <th>has_secondary_use_hotel</th>\n      <th>has_secondary_use_rental</th>\n      <th>has_secondary_use_institution</th>\n      <th>has_secondary_use_school</th>\n      <th>has_secondary_use_industry</th>\n      <th>has_secondary_use_health_post</th>\n      <th>has_secondary_use_gov_office</th>\n      <th>has_secondary_use_use_police</th>\n      <th>has_secondary_use_other</th>\n      <th>land_surface_condition_t</th>\n      <th>land_surface_condition_o</th>\n      <th>roof_type_n</th>\n      <th>roof_type_q</th>\n      <th>legal_ownership_status_v</th>\n      <th>legal_ownership_status_a</th>\n      <th>legal_ownership_status_r</th>\n      <th>other_floor_type_q</th>\n      <th>other_floor_type_x</th>\n      <th>other_floor_type_j</th>\n      <th>position_t</th>\n      <th>position_s</th>\n      <th>position_j</th>\n      <th>foundation_type_r</th>\n      <th>foundation_type_w</th>\n      <th>foundation_type_i</th>\n      <th>foundation_type_u</th>\n      <th>ground_floor_type_f</th>\n      <th>ground_floor_type_x</th>\n      <th>ground_floor_type_v</th>\n      <th>ground_floor_type_z</th>\n      <th>plan_configuration_d</th>\n      <th>damage_grade</th>\n    </tr>\n    <tr>\n      <th>building_id</th>\n      <th></th>\n      <th></th>\n      <th></th>\n      <th></th>\n      <th></th>\n      <th></th>\n      <th></th>\n      <th></th>\n      <th></th>\n      <th></th>\n      <th></th>\n      <th></th>\n      <th></th>\n      <th></th>\n      <th></th>\n      <th></th>\n      <th></th>\n      <th></th>\n      <th></th>\n      <th></th>\n      <th></th>\n      <th></th>\n      <th></th>\n      <th></th>\n      <th></th>\n      <th></th>\n      <th></th>\n      <th></th>\n      <th></th>\n      <th></th>\n      <th></th>\n      <th></th>\n      <th></th>\n      <th></th>\n      <th></th>\n      <th></th>\n      <th></th>\n      <th></th>\n      <th></th>\n      <th></th>\n      <th></th>\n      <th></th>\n      <th></th>\n      <th></th>\n      <th></th>\n      <th></th>\n      <th></th>\n      <th></th>\n      <th></th>\n      <th></th>\n      <th></th>\n      <th></th>\n      <th></th>\n    </tr>\n  </thead>\n  <tbody>\n    <tr>\n      <th>802906</th>\n      <td>6</td>\n      <td>487</td>\n      <td>12198</td>\n      <td>2</td>\n      <td>30</td>\n      <td>6</td>\n      <td>5</td>\n      <td>1</td>\n      <td>1</td>\n      <td>0</td>\n      <td>0</td>\n      <td>0</td>\n      <td>0</td>\n      <td>0</td>\n      <td>0</td>\n      <td>0</td>\n      <td>0</td>\n      <td>0</td>\n      <td>1</td>\n      <td>0</td>\n      <td>0</td>\n      <td>0</td>\n      <td>0</td>\n      <td>0</td>\n      <td>0</td>\n      <td>0</td>\n      <td>0</td>\n      <td>0</td>\n      <td>0</td>\n      <td>0</td>\n      <td>1</td>\n      <td>0</td>\n      <td>1</td>\n      <td>0</td>\n      <td>1</td>\n      <td>0</td>\n      <td>0</td>\n      <td>1</td>\n      <td>0</td>\n      <td>0</td>\n      <td>1</td>\n      <td>0</td>\n      <td>0</td>\n      <td>1</td>\n      <td>0</td>\n      <td>0</td>\n      <td>0</td>\n      <td>1</td>\n      <td>0</td>\n      <td>0</td>\n      <td>0</td>\n      <td>1</td>\n      <td>3</td>\n    </tr>\n    <tr>\n      <th>28830</th>\n      <td>8</td>\n      <td>900</td>\n      <td>2812</td>\n      <td>2</td>\n      <td>10</td>\n      <td>8</td>\n      <td>7</td>\n      <td>0</td>\n      <td>1</td>\n      <td>0</td>\n      <td>0</td>\n      <td>0</td>\n      <td>0</td>\n      <td>0</td>\n      <td>0</td>\n      <td>0</td>\n      <td>0</td>\n      <td>0</td>\n      <td>1</td>\n      <td>0</td>\n      <td>0</td>\n      <td>0</td>\n      <td>0</td>\n      <td>0</td>\n      <td>0</td>\n      <td>0</td>\n      <td>0</td>\n      <td>0</td>\n      <td>0</td>\n      <td>0</td>\n      <td>0</td>\n      <td>1</td>\n      <td>1</td>\n      <td>0</td>\n      <td>1</td>\n      <td>0</td>\n      <td>0</td>\n      <td>1</td>\n      <td>0</td>\n      <td>0</td>\n      <td>0</td>\n      <td>1</td>\n      <td>0</td>\n      <td>1</td>\n      <td>0</td>\n      <td>0</td>\n      <td>0</td>\n      <td>0</td>\n      <td>1</td>\n      <td>0</td>\n      <td>0</td>\n      <td>1</td>\n      <td>2</td>\n    </tr>\n    <tr>\n      <th>94947</th>\n      <td>21</td>\n      <td>363</td>\n      <td>8973</td>\n      <td>2</td>\n      <td>10</td>\n      <td>5</td>\n      <td>5</td>\n      <td>0</td>\n      <td>1</td>\n      <td>0</td>\n      <td>0</td>\n      <td>0</td>\n      <td>0</td>\n      <td>0</td>\n      <td>0</td>\n      <td>0</td>\n      <td>0</td>\n      <td>0</td>\n      <td>1</td>\n      <td>0</td>\n      <td>0</td>\n      <td>0</td>\n      <td>0</td>\n      <td>0</td>\n      <td>0</td>\n      <td>0</td>\n      <td>0</td>\n      <td>0</td>\n      <td>0</td>\n      <td>0</td>\n      <td>1</td>\n      <td>0</td>\n      <td>1</td>\n      <td>0</td>\n      <td>1</td>\n      <td>0</td>\n      <td>0</td>\n      <td>0</td>\n      <td>1</td>\n      <td>0</td>\n      <td>1</td>\n      <td>0</td>\n      <td>0</td>\n      <td>1</td>\n      <td>0</td>\n      <td>0</td>\n      <td>0</td>\n      <td>1</td>\n      <td>0</td>\n      <td>0</td>\n      <td>0</td>\n      <td>1</td>\n      <td>3</td>\n    </tr>\n    <tr>\n      <th>590882</th>\n      <td>22</td>\n      <td>418</td>\n      <td>10694</td>\n      <td>2</td>\n      <td>10</td>\n      <td>6</td>\n      <td>5</td>\n      <td>0</td>\n      <td>1</td>\n      <td>0</td>\n      <td>0</td>\n      <td>0</td>\n      <td>0</td>\n      <td>1</td>\n      <td>1</td>\n      <td>0</td>\n      <td>0</td>\n      <td>0</td>\n      <td>1</td>\n      <td>0</td>\n      <td>0</td>\n      <td>0</td>\n      <td>0</td>\n      <td>0</td>\n      <td>0</td>\n      <td>0</td>\n      <td>0</td>\n      <td>0</td>\n      <td>0</td>\n      <td>0</td>\n      <td>1</td>\n      <td>0</td>\n      <td>1</td>\n      <td>0</td>\n      <td>1</td>\n      <td>0</td>\n      <td>0</td>\n      <td>0</td>\n      <td>1</td>\n      <td>0</td>\n      <td>0</td>\n      <td>1</td>\n      <td>0</td>\n      <td>1</td>\n      <td>0</td>\n      <td>0</td>\n      <td>0</td>\n      <td>1</td>\n      <td>0</td>\n      <td>0</td>\n      <td>0</td>\n      <td>1</td>\n      <td>2</td>\n    </tr>\n    <tr>\n      <th>201944</th>\n      <td>11</td>\n      <td>131</td>\n      <td>1488</td>\n      <td>3</td>\n      <td>30</td>\n      <td>8</td>\n      <td>9</td>\n      <td>1</td>\n      <td>0</td>\n      <td>0</td>\n      <td>0</td>\n      <td>0</td>\n      <td>0</td>\n      <td>0</td>\n      <td>0</td>\n      <td>0</td>\n      <td>0</td>\n      <td>0</td>\n      <td>1</td>\n      <td>0</td>\n      <td>0</td>\n      <td>0</td>\n      <td>0</td>\n      <td>0</td>\n      <td>0</td>\n      <td>0</td>\n      <td>0</td>\n      <td>0</td>\n      <td>0</td>\n      <td>0</td>\n      <td>1</td>\n      <td>0</td>\n      <td>1</td>\n      <td>0</td>\n      <td>1</td>\n      <td>0</td>\n      <td>0</td>\n      <td>0</td>\n      <td>1</td>\n      <td>0</td>\n      <td>0</td>\n      <td>1</td>\n      <td>0</td>\n      <td>1</td>\n      <td>0</td>\n      <td>0</td>\n      <td>0</td>\n      <td>1</td>\n      <td>0</td>\n      <td>0</td>\n      <td>0</td>\n      <td>1</td>\n      <td>3</td>\n    </tr>\n  </tbody>\n</table>\n</div>"
     },
     "metadata": {},
     "execution_count": 41
    }
   ],
   "source": [
    "df_train = pd.concat([X_train, y_train], axis=1)\n",
    "\n",
    "df_train.to_parquet(path_processed+\"df_train.pqt\")\n",
    "\n",
    "df_train.head()"
   ]
  },
  {
   "cell_type": "code",
   "execution_count": 42,
   "metadata": {
    "ExecuteTime": {
     "end_time": "2020-12-05T15:01:47.734429Z",
     "start_time": "2020-12-05T15:01:47.717560Z"
    }
   },
   "outputs": [
    {
     "output_type": "execute_result",
     "data": {
      "text/plain": [
       "'damage_grade'"
      ]
     },
     "metadata": {},
     "execution_count": 42
    }
   ],
   "source": [
    "# Armazenando ordem dos atributos:\n",
    "lst_features_train = df_train.columns.tolist()\n",
    "lst_features_train.pop()"
   ]
  },
  {
   "cell_type": "markdown",
   "metadata": {},
   "source": [
    "# Aplicando os encoders treinados no dataset de teste"
   ]
  },
  {
   "cell_type": "code",
   "execution_count": 43,
   "metadata": {
    "ExecuteTime": {
     "end_time": "2020-12-05T15:01:53.721997Z",
     "start_time": "2020-12-05T15:01:53.686957Z"
    }
   },
   "outputs": [
    {
     "output_type": "execute_result",
     "data": {
      "text/plain": [
       "             geo_level_1_id  geo_level_2_id  geo_level_3_id  \\\n",
       "building_id                                                   \n",
       "300051                   17             596           11307   \n",
       "99355                     6             141           11987   \n",
       "890251                   22              19           10044   \n",
       "745817                   26              39             633   \n",
       "421793                   17             289            7970   \n",
       "\n",
       "             count_floors_pre_eq  age  area_percentage  height_percentage  \\\n",
       "building_id                                                                 \n",
       "300051                         3   20                7                  6   \n",
       "99355                          2   25               13                  5   \n",
       "890251                         2    5                4                  5   \n",
       "745817                         1    0               19                  3   \n",
       "421793                         3   15                8                  7   \n",
       "\n",
       "            land_surface_condition foundation_type roof_type  \\\n",
       "building_id                                                    \n",
       "300051                           t               r         n   \n",
       "99355                            t               r         n   \n",
       "890251                           t               r         n   \n",
       "745817                           t               r         x   \n",
       "421793                           t               r         q   \n",
       "\n",
       "            ground_floor_type other_floor_type position plan_configuration  \\\n",
       "building_id                                                                  \n",
       "300051                      f                q        s                  d   \n",
       "99355                       f                q        s                  d   \n",
       "890251                      f                q        s                  d   \n",
       "745817                      v                j        t                  d   \n",
       "421793                      f                q        t                  d   \n",
       "\n",
       "             has_superstructure_adobe_mud  \\\n",
       "building_id                                 \n",
       "300051                                  0   \n",
       "99355                                   0   \n",
       "890251                                  0   \n",
       "745817                                  0   \n",
       "421793                                  0   \n",
       "\n",
       "             has_superstructure_mud_mortar_stone  \\\n",
       "building_id                                        \n",
       "300051                                         1   \n",
       "99355                                          1   \n",
       "890251                                         1   \n",
       "745817                                         0   \n",
       "421793                                         1   \n",
       "\n",
       "             has_superstructure_stone_flag  \\\n",
       "building_id                                  \n",
       "300051                                   0   \n",
       "99355                                    0   \n",
       "890251                                   0   \n",
       "745817                                   0   \n",
       "421793                                   0   \n",
       "\n",
       "             has_superstructure_cement_mortar_stone  \\\n",
       "building_id                                           \n",
       "300051                                            0   \n",
       "99355                                             0   \n",
       "890251                                            0   \n",
       "745817                                            0   \n",
       "421793                                            0   \n",
       "\n",
       "             has_superstructure_mud_mortar_brick  \\\n",
       "building_id                                        \n",
       "300051                                         0   \n",
       "99355                                          0   \n",
       "890251                                         0   \n",
       "745817                                         0   \n",
       "421793                                         0   \n",
       "\n",
       "             has_superstructure_cement_mortar_brick  \\\n",
       "building_id                                           \n",
       "300051                                            0   \n",
       "99355                                             0   \n",
       "890251                                            0   \n",
       "745817                                            1   \n",
       "421793                                            0   \n",
       "\n",
       "             has_superstructure_timber  has_superstructure_bamboo  \\\n",
       "building_id                                                         \n",
       "300051                               0                          0   \n",
       "99355                                0                          0   \n",
       "890251                               0                          0   \n",
       "745817                               0                          0   \n",
       "421793                               0                          0   \n",
       "\n",
       "             has_superstructure_rc_non_engineered  \\\n",
       "building_id                                         \n",
       "300051                                          0   \n",
       "99355                                           0   \n",
       "890251                                          0   \n",
       "745817                                          0   \n",
       "421793                                          0   \n",
       "\n",
       "             has_superstructure_rc_engineered  has_superstructure_other  \\\n",
       "building_id                                                               \n",
       "300051                                      0                         0   \n",
       "99355                                       0                         0   \n",
       "890251                                      0                         0   \n",
       "745817                                      0                         0   \n",
       "421793                                      0                         0   \n",
       "\n",
       "            legal_ownership_status  count_families  has_secondary_use  \\\n",
       "building_id                                                             \n",
       "300051                           v               1                  0   \n",
       "99355                            v               1                  1   \n",
       "890251                           v               1                  0   \n",
       "745817                           v               2                  1   \n",
       "421793                           v               1                  0   \n",
       "\n",
       "             has_secondary_use_agriculture  has_secondary_use_hotel  \\\n",
       "building_id                                                           \n",
       "300051                                   0                        0   \n",
       "99355                                    1                        0   \n",
       "890251                                   0                        0   \n",
       "745817                                   0                        0   \n",
       "421793                                   0                        0   \n",
       "\n",
       "             has_secondary_use_rental  has_secondary_use_institution  \\\n",
       "building_id                                                            \n",
       "300051                              0                              0   \n",
       "99355                               0                              0   \n",
       "890251                              0                              0   \n",
       "745817                              1                              0   \n",
       "421793                              0                              0   \n",
       "\n",
       "             has_secondary_use_school  has_secondary_use_industry  \\\n",
       "building_id                                                         \n",
       "300051                              0                           0   \n",
       "99355                               0                           0   \n",
       "890251                              0                           0   \n",
       "745817                              0                           0   \n",
       "421793                              0                           0   \n",
       "\n",
       "             has_secondary_use_health_post  has_secondary_use_gov_office  \\\n",
       "building_id                                                                \n",
       "300051                                   0                             0   \n",
       "99355                                    0                             0   \n",
       "890251                                   0                             0   \n",
       "745817                                   0                             0   \n",
       "421793                                   0                             0   \n",
       "\n",
       "             has_secondary_use_use_police  has_secondary_use_other  \n",
       "building_id                                                         \n",
       "300051                                  0                        0  \n",
       "99355                                   0                        0  \n",
       "890251                                  0                        0  \n",
       "745817                                  0                        0  \n",
       "421793                                  0                        0  "
      ],
      "text/html": "<div>\n<style scoped>\n    .dataframe tbody tr th:only-of-type {\n        vertical-align: middle;\n    }\n\n    .dataframe tbody tr th {\n        vertical-align: top;\n    }\n\n    .dataframe thead th {\n        text-align: right;\n    }\n</style>\n<table border=\"1\" class=\"dataframe\">\n  <thead>\n    <tr style=\"text-align: right;\">\n      <th></th>\n      <th>geo_level_1_id</th>\n      <th>geo_level_2_id</th>\n      <th>geo_level_3_id</th>\n      <th>count_floors_pre_eq</th>\n      <th>age</th>\n      <th>area_percentage</th>\n      <th>height_percentage</th>\n      <th>land_surface_condition</th>\n      <th>foundation_type</th>\n      <th>roof_type</th>\n      <th>ground_floor_type</th>\n      <th>other_floor_type</th>\n      <th>position</th>\n      <th>plan_configuration</th>\n      <th>has_superstructure_adobe_mud</th>\n      <th>has_superstructure_mud_mortar_stone</th>\n      <th>has_superstructure_stone_flag</th>\n      <th>has_superstructure_cement_mortar_stone</th>\n      <th>has_superstructure_mud_mortar_brick</th>\n      <th>has_superstructure_cement_mortar_brick</th>\n      <th>has_superstructure_timber</th>\n      <th>has_superstructure_bamboo</th>\n      <th>has_superstructure_rc_non_engineered</th>\n      <th>has_superstructure_rc_engineered</th>\n      <th>has_superstructure_other</th>\n      <th>legal_ownership_status</th>\n      <th>count_families</th>\n      <th>has_secondary_use</th>\n      <th>has_secondary_use_agriculture</th>\n      <th>has_secondary_use_hotel</th>\n      <th>has_secondary_use_rental</th>\n      <th>has_secondary_use_institution</th>\n      <th>has_secondary_use_school</th>\n      <th>has_secondary_use_industry</th>\n      <th>has_secondary_use_health_post</th>\n      <th>has_secondary_use_gov_office</th>\n      <th>has_secondary_use_use_police</th>\n      <th>has_secondary_use_other</th>\n    </tr>\n    <tr>\n      <th>building_id</th>\n      <th></th>\n      <th></th>\n      <th></th>\n      <th></th>\n      <th></th>\n      <th></th>\n      <th></th>\n      <th></th>\n      <th></th>\n      <th></th>\n      <th></th>\n      <th></th>\n      <th></th>\n      <th></th>\n      <th></th>\n      <th></th>\n      <th></th>\n      <th></th>\n      <th></th>\n      <th></th>\n      <th></th>\n      <th></th>\n      <th></th>\n      <th></th>\n      <th></th>\n      <th></th>\n      <th></th>\n      <th></th>\n      <th></th>\n      <th></th>\n      <th></th>\n      <th></th>\n      <th></th>\n      <th></th>\n      <th></th>\n      <th></th>\n      <th></th>\n      <th></th>\n    </tr>\n  </thead>\n  <tbody>\n    <tr>\n      <th>300051</th>\n      <td>17</td>\n      <td>596</td>\n      <td>11307</td>\n      <td>3</td>\n      <td>20</td>\n      <td>7</td>\n      <td>6</td>\n      <td>t</td>\n      <td>r</td>\n      <td>n</td>\n      <td>f</td>\n      <td>q</td>\n      <td>s</td>\n      <td>d</td>\n      <td>0</td>\n      <td>1</td>\n      <td>0</td>\n      <td>0</td>\n      <td>0</td>\n      <td>0</td>\n      <td>0</td>\n      <td>0</td>\n      <td>0</td>\n      <td>0</td>\n      <td>0</td>\n      <td>v</td>\n      <td>1</td>\n      <td>0</td>\n      <td>0</td>\n      <td>0</td>\n      <td>0</td>\n      <td>0</td>\n      <td>0</td>\n      <td>0</td>\n      <td>0</td>\n      <td>0</td>\n      <td>0</td>\n      <td>0</td>\n    </tr>\n    <tr>\n      <th>99355</th>\n      <td>6</td>\n      <td>141</td>\n      <td>11987</td>\n      <td>2</td>\n      <td>25</td>\n      <td>13</td>\n      <td>5</td>\n      <td>t</td>\n      <td>r</td>\n      <td>n</td>\n      <td>f</td>\n      <td>q</td>\n      <td>s</td>\n      <td>d</td>\n      <td>0</td>\n      <td>1</td>\n      <td>0</td>\n      <td>0</td>\n      <td>0</td>\n      <td>0</td>\n      <td>0</td>\n      <td>0</td>\n      <td>0</td>\n      <td>0</td>\n      <td>0</td>\n      <td>v</td>\n      <td>1</td>\n      <td>1</td>\n      <td>1</td>\n      <td>0</td>\n      <td>0</td>\n      <td>0</td>\n      <td>0</td>\n      <td>0</td>\n      <td>0</td>\n      <td>0</td>\n      <td>0</td>\n      <td>0</td>\n    </tr>\n    <tr>\n      <th>890251</th>\n      <td>22</td>\n      <td>19</td>\n      <td>10044</td>\n      <td>2</td>\n      <td>5</td>\n      <td>4</td>\n      <td>5</td>\n      <td>t</td>\n      <td>r</td>\n      <td>n</td>\n      <td>f</td>\n      <td>q</td>\n      <td>s</td>\n      <td>d</td>\n      <td>0</td>\n      <td>1</td>\n      <td>0</td>\n      <td>0</td>\n      <td>0</td>\n      <td>0</td>\n      <td>0</td>\n      <td>0</td>\n      <td>0</td>\n      <td>0</td>\n      <td>0</td>\n      <td>v</td>\n      <td>1</td>\n      <td>0</td>\n      <td>0</td>\n      <td>0</td>\n      <td>0</td>\n      <td>0</td>\n      <td>0</td>\n      <td>0</td>\n      <td>0</td>\n      <td>0</td>\n      <td>0</td>\n      <td>0</td>\n    </tr>\n    <tr>\n      <th>745817</th>\n      <td>26</td>\n      <td>39</td>\n      <td>633</td>\n      <td>1</td>\n      <td>0</td>\n      <td>19</td>\n      <td>3</td>\n      <td>t</td>\n      <td>r</td>\n      <td>x</td>\n      <td>v</td>\n      <td>j</td>\n      <td>t</td>\n      <td>d</td>\n      <td>0</td>\n      <td>0</td>\n      <td>0</td>\n      <td>0</td>\n      <td>0</td>\n      <td>1</td>\n      <td>0</td>\n      <td>0</td>\n      <td>0</td>\n      <td>0</td>\n      <td>0</td>\n      <td>v</td>\n      <td>2</td>\n      <td>1</td>\n      <td>0</td>\n      <td>0</td>\n      <td>1</td>\n      <td>0</td>\n      <td>0</td>\n      <td>0</td>\n      <td>0</td>\n      <td>0</td>\n      <td>0</td>\n      <td>0</td>\n    </tr>\n    <tr>\n      <th>421793</th>\n      <td>17</td>\n      <td>289</td>\n      <td>7970</td>\n      <td>3</td>\n      <td>15</td>\n      <td>8</td>\n      <td>7</td>\n      <td>t</td>\n      <td>r</td>\n      <td>q</td>\n      <td>f</td>\n      <td>q</td>\n      <td>t</td>\n      <td>d</td>\n      <td>0</td>\n      <td>1</td>\n      <td>0</td>\n      <td>0</td>\n      <td>0</td>\n      <td>0</td>\n      <td>0</td>\n      <td>0</td>\n      <td>0</td>\n      <td>0</td>\n      <td>0</td>\n      <td>v</td>\n      <td>1</td>\n      <td>0</td>\n      <td>0</td>\n      <td>0</td>\n      <td>0</td>\n      <td>0</td>\n      <td>0</td>\n      <td>0</td>\n      <td>0</td>\n      <td>0</td>\n      <td>0</td>\n      <td>0</td>\n    </tr>\n  </tbody>\n</table>\n</div>"
     },
     "metadata": {},
     "execution_count": 43
    }
   ],
   "source": [
    "X_test.head()"
   ]
  },
  {
   "cell_type": "code",
   "execution_count": 45,
   "metadata": {
    "ExecuteTime": {
     "end_time": "2020-12-05T15:01:55.910216Z",
     "start_time": "2020-12-05T15:01:55.510252Z"
    }
   },
   "outputs": [],
   "source": [
    "X_test_encoded = X_test.copy()\n",
    "\n",
    "X_test_encoded = rare_label_encoder.transform(X_test_encoded)\n",
    "X_test_encoded = transform_rare_int(X_test_encoded, lst_X_train_categoricas_ordinais)\n",
    "X_test_encoded = ohe_hot_encoder.transform(X_test_encoded)\n",
    "\n",
    "X_test_encoded.to_parquet(path_processed+\"X_test_encoded.pqt\")"
   ]
  }
 ],
 "metadata": {
  "hide_input": false,
  "kernelspec": {
   "name": "python3",
   "display_name": "Python 3.8.5 64-bit (conda)",
   "metadata": {
    "interpreter": {
     "hash": "ecb0bfb2b95fdec34bfe23aed9a2caced7e56eb1ecc7fa82c4b915c35dfc6e39"
    }
   }
  },
  "language_info": {
   "codemirror_mode": {
    "name": "ipython",
    "version": 3
   },
   "file_extension": ".py",
   "mimetype": "text/x-python",
   "name": "python",
   "nbconvert_exporter": "python",
   "pygments_lexer": "ipython3",
   "version": "3.8.5-final"
  },
  "toc": {
   "base_numbering": 1,
   "nav_menu": {},
   "number_sections": true,
   "sideBar": true,
   "skip_h1_title": false,
   "title_cell": "Table of Contents",
   "title_sidebar": "Contents",
   "toc_cell": false,
   "toc_position": {},
   "toc_section_display": true,
   "toc_window_display": false
  }
 },
 "nbformat": 4,
 "nbformat_minor": 4
}